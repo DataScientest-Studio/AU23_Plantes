{
 "cells": [
  {
   "cell_type": "code",
   "execution_count": 1,
   "id": "3d861699",
   "metadata": {},
   "outputs": [],
   "source": [
    "import matplotlib.pyplot as plt\n",
    "import tensorflow as tf\n",
    "import numpy as np\n",
    "import random"
   ]
  },
  {
   "cell_type": "code",
   "execution_count": 2,
   "id": "716f592b665e1af3",
   "metadata": {
    "ExecuteTime": {
     "end_time": "2023-10-27T10:47:50.020756Z",
     "start_time": "2023-10-27T10:47:46.092Z"
    },
    "collapsed": true
   },
   "outputs": [],
   "source": [
    "import src\n",
    "import src.features as lf\n",
    "import src.models as lm\n",
    "import src.visualization as lv\n",
    "from src.models.models import *\n",
    "\n",
    "lm.models.RECORD_DIR='./models/records'"
   ]
  },
  {
   "cell_type": "markdown",
   "id": "5b735f88",
   "metadata": {},
   "source": [
    "### PATH \n"
   ]
  },
  {
   "cell_type": "code",
   "execution_count": 3,
   "id": "8f114908",
   "metadata": {},
   "outputs": [],
   "source": [
    "PATH = './dataset/'"
   ]
  },
  {
   "cell_type": "markdown",
   "id": "fd2b95be94dd75fb",
   "metadata": {
    "collapsed": false
   },
   "source": [
    "\n",
    "Data loading\n",
    "---------"
   ]
  },
  {
   "cell_type": "code",
   "execution_count": 4,
   "id": "7de0f41c676ceb0b",
   "metadata": {
    "ExecuteTime": {
     "end_time": "2023-10-27T10:47:50.060823Z",
     "start_time": "2023-10-27T10:47:50.021734Z"
    },
    "collapsed": false
   },
   "outputs": [],
   "source": [
    "#### Data building\n",
    "data = lf.data_builder.create_dataset_from_directory(PATH)"
   ]
  },
  {
   "cell_type": "markdown",
   "id": "224f523c03e5171c",
   "metadata": {
    "collapsed": false
   },
   "source": [
    "\n",
    "Model Loading\n",
    "---------"
   ]
  },
  {
   "cell_type": "code",
   "execution_count": 5,
   "id": "f9a4e4cf",
   "metadata": {},
   "outputs": [],
   "source": [
    "\n",
    "#### Train Campaigns\n",
    "campaign_id='test'"
   ]
  },
  {
   "cell_type": "markdown",
   "id": "f1936fdb",
   "metadata": {},
   "source": [
    "## **Stage 1**"
   ]
  },
  {
   "cell_type": "markdown",
   "id": "dbb3b054",
   "metadata": {},
   "source": [
    "### *```ResNetV2```*"
   ]
  },
  {
   "cell_type": "code",
   "execution_count": 6,
   "id": "84529834110ec02",
   "metadata": {
    "ExecuteTime": {
     "end_time": "2023-10-27T10:56:31.584728Z",
     "start_time": "2023-10-27T10:56:27.916444Z"
    },
    "collapsed": false
   },
   "outputs": [
    {
     "name": "stdout",
     "output_type": "stream",
     "text": [
      "Found 4387 validated image filenames belonging to 12 classes.\n",
      "Found 598 validated image filenames belonging to 12 classes.\n",
      "Found 554 validated image filenames belonging to 12 classes.\n",
      ">>> Stage-1_ResNetv2 –– Training\n",
      "138/138 [==============================] - 290s 2s/step - loss: 1.7992 - categorical_accuracy: 0.4012 - val_loss: 1.2654 - val_categorical_accuracy: 0.5652 - lr: 0.0010\n",
      ">>> Stage-1_ResNetv2 –– Serialize \n"
     ]
    }
   ],
   "source": [
    "#### Stage 1\n",
    "stage1_resnet = Stage1ResNetv2(data)\n",
    "stage1_resnet.fit_or_load(campaign_id, training=True)"
   ]
  },
  {
   "cell_type": "markdown",
   "id": "de028592",
   "metadata": {},
   "source": [
    "### *```MobileNetV3```*"
   ]
  },
  {
   "cell_type": "code",
   "execution_count": null,
   "id": "96bf6eb4",
   "metadata": {},
   "outputs": [],
   "source": [
    "stage1_mobilenet = Stage1MobileNetv3(data)\n",
    "stage1_mobilenet.fit_or_load(campaign_id, training=True)"
   ]
  },
  {
   "cell_type": "markdown",
   "id": "d65973c105ba7c7d",
   "metadata": {
    "collapsed": false
   },
   "source": [
    "**Model evaluation**\n",
    "-------"
   ]
  },
  {
   "cell_type": "code",
   "execution_count": null,
   "id": "a005eb8cc2c6717e",
   "metadata": {
    "ExecuteTime": {
     "end_time": "2023-10-27T10:55:56.883656Z",
     "start_time": "2023-10-27T10:55:56.494745Z"
    },
    "collapsed": false
   },
   "outputs": [],
   "source": [
    "img = data.dataframe.iloc[8]\n",
    "print(f\"Pred : {stage1_mobilenet.single_prediction(img.path)}\")\n",
    "print(f\"Actual : {img.label}\")"
   ]
  },
  {
   "cell_type": "markdown",
   "id": "10f3a039",
   "metadata": {},
   "source": [
    "### *```MobileNetV2```*"
   ]
  },
  {
   "cell_type": "code",
   "execution_count": null,
   "id": "initial_id",
   "metadata": {
    "ExecuteTime": {
     "end_time": "2023-10-27T11:00:14.952818Z",
     "start_time": "2023-10-27T11:00:07.886104Z"
    },
    "collapsed": false
   },
   "outputs": [],
   "source": [
    "results = stage1_mobilenet.evaluate()\n",
    "display(results)"
   ]
  },
  {
   "cell_type": "markdown",
   "id": "1285e06b",
   "metadata": {},
   "source": [
    "### *```MobileNetV2 grad cam```*"
   ]
  },
  {
   "cell_type": "code",
   "execution_count": null,
   "id": "868d31a4779ca403",
   "metadata": {
    "ExecuteTime": {
     "end_time": "2023-10-27T10:56:07.253454Z",
     "start_time": "2023-10-27T10:56:04.927697Z"
    },
    "collapsed": false
   },
   "outputs": [],
   "source": [
    "stage1_mobilenet.display_samples(nb=6, gradcam=True)"
   ]
  },
  {
   "cell_type": "markdown",
   "id": "3c450d40",
   "metadata": {},
   "source": [
    "### *```ResNetV2 grad cam```*"
   ]
  },
  {
   "cell_type": "code",
   "execution_count": null,
   "id": "f9e90f9cad84138",
   "metadata": {
    "ExecuteTime": {
     "end_time": "2023-10-27T10:57:17.178495Z",
     "start_time": "2023-10-27T10:56:51.011890Z"
    },
    "collapsed": false
   },
   "outputs": [],
   "source": [
    "stage1_resnet.evaluate()\n",
    "stage1_resnet.display_samples(nb=6, gradcam=True)"
   ]
  },
  {
   "cell_type": "markdown",
   "id": "5d059e32",
   "metadata": {},
   "source": [
    "### *```ResNetV2 classification report```*"
   ]
  },
  {
   "cell_type": "code",
   "execution_count": null,
   "id": "139542a8f20b5d38",
   "metadata": {
    "ExecuteTime": {
     "end_time": "2023-10-27T10:59:46.733882Z",
     "start_time": "2023-10-27T10:59:46.710375Z"
    },
    "collapsed": false
   },
   "outputs": [],
   "source": [
    "stage1_resnet.print_classification_report();"
   ]
  },
  {
   "cell_type": "markdown",
   "id": "9758be4c",
   "metadata": {},
   "source": [
    "### *```MobileNetV2 classification report```*"
   ]
  },
  {
   "cell_type": "code",
   "execution_count": null,
   "id": "75931c8d4cbf7258",
   "metadata": {
    "ExecuteTime": {
     "end_time": "2023-10-27T11:00:21.852661Z",
     "start_time": "2023-10-27T11:00:21.843475Z"
    },
    "collapsed": false
   },
   "outputs": [],
   "source": [
    "stage1_mobilenet.print_classification_report();"
   ]
  },
  {
   "cell_type": "markdown",
   "id": "6f680d78",
   "metadata": {},
   "source": [
    "### *```MobileNetV2 prediction```*"
   ]
  },
  {
   "cell_type": "code",
   "execution_count": null,
   "id": "cf2de83355b63923",
   "metadata": {
    "ExecuteTime": {
     "end_time": "2023-10-27T11:02:05.292178Z",
     "start_time": "2023-10-27T11:02:04.838348Z"
    },
    "collapsed": false
   },
   "outputs": [],
   "source": [
    "stage1_mobilenet.single_prediction(img.path)\n"
   ]
  },
  {
   "cell_type": "markdown",
   "id": "622ebf09",
   "metadata": {},
   "source": [
    "### *```ResNetV2 prediction```*"
   ]
  },
  {
   "cell_type": "code",
   "execution_count": null,
   "id": "b68c6241bddc2f83",
   "metadata": {
    "ExecuteTime": {
     "end_time": "2023-10-27T11:02:31.054962Z",
     "start_time": "2023-10-27T11:02:30.468104Z"
    },
    "collapsed": false
   },
   "outputs": [],
   "source": [
    "stage1_resnet.single_prediction(img.path)"
   ]
  },
  {
   "cell_type": "markdown",
   "id": "38fda59d",
   "metadata": {},
   "source": [
    "## **Stage2**"
   ]
  },
  {
   "cell_type": "markdown",
   "id": "d9d2d3b9",
   "metadata": {},
   "source": [
    "### *```MobileNetV2```*"
   ]
  },
  {
   "cell_type": "code",
   "execution_count": null,
   "id": "6b0bc48a",
   "metadata": {},
   "outputs": [],
   "source": [
    "#### Stage 2\n",
    "stage2_mobilenet = Stage2MobileNetv3(data)\n",
    "stage2_mobilenet.fit_or_load(campaign_id, training=True)"
   ]
  },
  {
   "cell_type": "markdown",
   "id": "4c3c5059",
   "metadata": {},
   "source": [
    "### *```ResNetV2```*"
   ]
  },
  {
   "cell_type": "code",
   "execution_count": null,
   "id": "47cdf981",
   "metadata": {},
   "outputs": [],
   "source": [
    "#### Stage 2\n",
    "stage2_resnetv2 = Stage2ResNetv2(data)\n",
    "stage2_resnetv2.fit_or_load(campaign_id, training=True)"
   ]
  },
  {
   "cell_type": "markdown",
   "id": "1d4cdb4b",
   "metadata": {},
   "source": [
    "## __Background Removal__\n",
    "\n",
    "- Two colors : **black** and **white**"
   ]
  },
  {
   "cell_type": "code",
   "execution_count": null,
   "id": "4c56c78c",
   "metadata": {},
   "outputs": [],
   "source": [
    "np.random.seed(3)\n",
    "\n",
    "f, axes = plt.subplots(2, 5, figsize=(10, 4))\n",
    "colors  = ['white', 'black']\n",
    "index   = -1\n",
    "for i in range(2):\n",
    "    for j in range(5):\n",
    "        index = random.sample(range(data.dataframe.shape[0]), 1)[0]\n",
    "        img = data.dataframe.iloc[index]\n",
    "        img = plt.imread(img.path)\n",
    "        image_without_bg = remove_background(x=tf.constant(img, dtype=tf.float32), color=colors[np.random.choice([0, 1])])\n",
    "        axes[i, j].axis('off')\n",
    "        axes[i, j].imshow(image_without_bg)\n",
    "        axes[i, j].set_title(data.dataframe.label[index], fontsize='medium')\n",
    "\n",
    "plt.show()"
   ]
  },
  {
   "cell_type": "markdown",
   "id": "32200f96",
   "metadata": {},
   "source": [
    "## __Histogram of Colors__\n",
    "\n",
    "### *```Hyper parameters```* \n",
    "\n",
    "- **data** : is a dataframe \n",
    "- **select_index** : is a list of integer valeurs use to select images in the dataframe\n",
    "- **figsize** : is a  tuple to resize figure "
   ]
  },
  {
   "cell_type": "code",
   "execution_count": null,
   "id": "df04bcf6",
   "metadata": {},
   "outputs": [],
   "source": [
    "select_index = random.sample(range(data.dataframe.shape[0]), 3)\n",
    "Plot_Histograms(data=data, select_index=select_index , figsize=(15, 6))"
   ]
  }
 ],
 "metadata": {
  "kernelspec": {
   "display_name": "Python 3",
   "language": "python",
   "name": "python3"
  },
  "language_info": {
   "codemirror_mode": {
    "name": "ipython",
    "version": 3
   },
   "file_extension": ".py",
   "mimetype": "text/x-python",
   "name": "python",
   "nbconvert_exporter": "python",
   "pygments_lexer": "ipython3",
   "version": "3.11.6"
  }
 },
 "nbformat": 4,
 "nbformat_minor": 5
}
