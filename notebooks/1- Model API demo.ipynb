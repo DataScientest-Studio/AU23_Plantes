{
 "cells": [
  {
   "cell_type": "code",
   "execution_count": 1,
   "id": "716f592b665e1af3",
   "metadata": {
    "collapsed": true,
    "ExecuteTime": {
     "end_time": "2023-10-27T07:04:47.847888Z",
     "start_time": "2023-10-27T07:04:42.114382Z"
    }
   },
   "outputs": [
    {
     "name": "stderr",
     "output_type": "stream",
     "text": [
      "/Users/olivier/pythonEnvs/tf2/lib/python3.9/site-packages/urllib3/__init__.py:34: NotOpenSSLWarning: urllib3 v2.0 only supports OpenSSL 1.1.1+, currently the 'ssl' module is compiled with 'LibreSSL 2.8.3'. See: https://github.com/urllib3/urllib3/issues/3020\n",
      "  warnings.warn(\n"
     ]
    }
   ],
   "source": [
    "\n",
    "import src.features as lf\n",
    "import src.models as lm\n",
    "import src.visualization as lv\n",
    "from src.models.models import *\n",
    "lm.models.RECORD_DIR='../models/records'\n"
   ]
  },
  {
   "cell_type": "markdown",
   "source": [
    "Data loading\n",
    "---------"
   ],
   "metadata": {
    "collapsed": false
   },
   "id": "fd2b95be94dd75fb"
  },
  {
   "cell_type": "code",
   "execution_count": 2,
   "outputs": [],
   "source": [
    "#### Data building\n",
    "data = lf.data_builder.create_dataset_from_directory('../data/v2-plant-seedlings-dataset/')"
   ],
   "metadata": {
    "collapsed": false,
    "ExecuteTime": {
     "end_time": "2023-10-27T07:04:47.915843Z",
     "start_time": "2023-10-27T07:04:47.849826Z"
    }
   },
   "id": "7de0f41c676ceb0b"
  },
  {
   "cell_type": "markdown",
   "source": [
    "Model "
   ],
   "metadata": {
    "collapsed": false
   },
   "id": "224f523c03e5171c"
  },
  {
   "cell_type": "code",
   "execution_count": 3,
   "outputs": [
    {
     "name": "stdout",
     "output_type": "stream",
     "text": [
      "Found 4387 validated image filenames belonging to 12 classes.\n",
      "Found 598 validated image filenames belonging to 12 classes.\n",
      "Found 554 validated image filenames belonging to 12 classes.\n",
      ">>> Stage-1_MobileNetv3 –– Loading\n"
     ]
    }
   ],
   "source": [
    "\n",
    "#### Train Campaigns\n",
    "campaign_id='test'\n",
    "\n",
    "#### Stage 1\n",
    "stage1_mobilenet = Stage1MobileNetv3(data)\n",
    "stage1_mobilenet.fit_or_load(campaign_id, training=False)"
   ],
   "metadata": {
    "collapsed": false,
    "ExecuteTime": {
     "end_time": "2023-10-27T07:04:50.069286Z",
     "start_time": "2023-10-27T07:04:47.920620Z"
    }
   },
   "id": "84529834110ec02"
  },
  {
   "cell_type": "code",
   "execution_count": 4,
   "outputs": [
    {
     "name": "stdout",
     "output_type": "stream",
     "text": [
      ">>> Stage-1_MobileNetv3 –– Evaluation\n"
     ]
    },
    {
     "name": "stderr",
     "output_type": "stream",
     "text": [
      "2023-10-27 09:04:50.191163: W tensorflow/tsl/platform/profile_utils/cpu_utils.cc:128] Failed to get CPU frequency: 0 Hz\n"
     ]
    },
    {
     "name": "stdout",
     "output_type": "stream",
     "text": [
      "1/1 [==============================] - 1s 725ms/step\n",
      "Pred : Cleavers\n",
      "Actual : Cleavers\n"
     ]
    }
   ],
   "source": [
    "img = data.dataframe.iloc[8]\n",
    "print(f\"Pred : {stage1_mobilenet.single_evaluation(img.path)}\")\n",
    "print(f\"Actual : {img.label}\")"
   ],
   "metadata": {
    "collapsed": false,
    "ExecuteTime": {
     "end_time": "2023-10-27T07:04:50.892367Z",
     "start_time": "2023-10-27T07:04:50.069599Z"
    }
   },
   "id": "a005eb8cc2c6717e"
  },
  {
   "cell_type": "code",
   "execution_count": 4,
   "outputs": [],
   "source": [
    "\n"
   ],
   "metadata": {
    "collapsed": false,
    "ExecuteTime": {
     "end_time": "2023-10-27T07:04:50.895505Z",
     "start_time": "2023-10-27T07:04:50.892868Z"
    }
   },
   "id": "initial_id"
  }
 ],
 "metadata": {
  "kernelspec": {
   "display_name": "Python 3",
   "language": "python",
   "name": "python3"
  },
  "language_info": {
   "codemirror_mode": {
    "name": "ipython",
    "version": 2
   },
   "file_extension": ".py",
   "mimetype": "text/x-python",
   "name": "python",
   "nbconvert_exporter": "python",
   "pygments_lexer": "ipython2",
   "version": "2.7.6"
  }
 },
 "nbformat": 4,
 "nbformat_minor": 5
}
