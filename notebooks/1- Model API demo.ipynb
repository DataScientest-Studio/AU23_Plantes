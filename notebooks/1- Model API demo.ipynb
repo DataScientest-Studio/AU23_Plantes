{
 "cells": [
  {
   "cell_type": "code",
   "execution_count": null,
   "id": "716f592b665e1af3",
   "metadata": {
    "ExecuteTime": {
     "end_time": "2023-10-27T10:47:50.020756Z",
     "start_time": "2023-10-27T10:47:46.092Z"
    },
    "collapsed": true
   },
   "outputs": [],
   "source": [
    "import sys\n",
    "sys.path.append(\"/Users/morph/Desktop/Projet_DS/AU23_Plantes\")\n",
    "\n",
    "import src\n",
    "import src.features as lf\n",
    "import src.models as lm\n",
    "import src.visualization as lv\n",
    "from src.models.models import *\n",
    "\n",
    "lm.models.RECORD_DIR='../models/records'"
   ]
  },
  {
   "cell_type": "markdown",
   "id": "fd2b95be94dd75fb",
   "metadata": {
    "collapsed": false
   },
   "source": [
    "\n",
    "Data loading\n",
    "---------"
   ]
  },
  {
   "cell_type": "code",
   "execution_count": null,
   "id": "7de0f41c676ceb0b",
   "metadata": {
    "ExecuteTime": {
     "end_time": "2023-10-27T10:47:50.060823Z",
     "start_time": "2023-10-27T10:47:50.021734Z"
    },
    "collapsed": false
   },
   "outputs": [],
   "source": [
    "#### Data building\n",
    "data = lf.data_builder.create_dataset_from_directory('/Users/morph/Desktop/Projet_DS/dataset')"
   ]
  },
  {
   "cell_type": "markdown",
   "id": "224f523c03e5171c",
   "metadata": {
    "collapsed": false
   },
   "source": [
    "\n",
    "Model Loading\n",
    "---------"
   ]
  },
  {
   "cell_type": "code",
   "execution_count": null,
   "id": "84529834110ec02",
   "metadata": {
    "ExecuteTime": {
     "end_time": "2023-10-27T10:56:31.584728Z",
     "start_time": "2023-10-27T10:56:27.916444Z"
    },
    "collapsed": false
   },
   "outputs": [],
   "source": [
    "\n",
    "#### Train Campaigns\n",
    "campaign_id='test'\n",
    "\n",
    "#### Stage 1\n",
    "stage1_resnet = Stage1ResNetv2(data)\n",
    "stage1_resnet.fit_or_load(campaign_id, training=True)\n",
    "\n",
    "\n",
    "stage1_mobilenet = Stage1MobileNetv3(data)\n",
    "stage1_mobilenet.fit_or_load(campaign_id, training=True)"
   ]
  },
  {
   "cell_type": "markdown",
   "id": "d65973c105ba7c7d",
   "metadata": {
    "collapsed": false
   },
   "source": [
    "Model evaluation\n",
    "-------"
   ]
  },
  {
   "cell_type": "code",
   "execution_count": null,
   "id": "a005eb8cc2c6717e",
   "metadata": {
    "ExecuteTime": {
     "end_time": "2023-10-27T10:55:56.883656Z",
     "start_time": "2023-10-27T10:55:56.494745Z"
    },
    "collapsed": false
   },
   "outputs": [],
   "source": [
    "img = data.dataframe.iloc[8]\n",
    "print(f\"Pred : {stage1_mobilenet.single_prediction(img.path)}\")\n",
    "print(f\"Actual : {img.label}\")"
   ]
  },
  {
   "cell_type": "code",
   "execution_count": null,
   "id": "initial_id",
   "metadata": {
    "ExecuteTime": {
     "end_time": "2023-10-27T11:00:14.952818Z",
     "start_time": "2023-10-27T11:00:07.886104Z"
    },
    "collapsed": false
   },
   "outputs": [],
   "source": [
    "results = stage1_mobilenet.evaluate()\n",
    "display(results)"
   ]
  },
  {
   "cell_type": "code",
   "execution_count": null,
   "id": "868d31a4779ca403",
   "metadata": {
    "ExecuteTime": {
     "end_time": "2023-10-27T10:56:07.253454Z",
     "start_time": "2023-10-27T10:56:04.927697Z"
    },
    "collapsed": false
   },
   "outputs": [],
   "source": [
    "stage1_mobilenet.display_samples(nb=6, gradcam=True)"
   ]
  },
  {
   "cell_type": "code",
   "execution_count": null,
   "id": "f9e90f9cad84138",
   "metadata": {
    "ExecuteTime": {
     "end_time": "2023-10-27T10:57:17.178495Z",
     "start_time": "2023-10-27T10:56:51.011890Z"
    },
    "collapsed": false
   },
   "outputs": [],
   "source": [
    "stage1_resnet.evaluate()\n",
    "stage1_resnet.display_samples(nb=6, gradcam=True)"
   ]
  },
  {
   "cell_type": "code",
   "execution_count": null,
   "id": "139542a8f20b5d38",
   "metadata": {
    "ExecuteTime": {
     "end_time": "2023-10-27T10:59:46.733882Z",
     "start_time": "2023-10-27T10:59:46.710375Z"
    },
    "collapsed": false
   },
   "outputs": [],
   "source": [
    "stage1_resnet.print_classification_report();"
   ]
  },
  {
   "cell_type": "code",
   "execution_count": null,
   "id": "75931c8d4cbf7258",
   "metadata": {
    "ExecuteTime": {
     "end_time": "2023-10-27T11:00:21.852661Z",
     "start_time": "2023-10-27T11:00:21.843475Z"
    },
    "collapsed": false
   },
   "outputs": [],
   "source": [
    "stage1_mobilenet.print_classification_report();"
   ]
  },
  {
   "cell_type": "code",
   "execution_count": null,
   "id": "cf2de83355b63923",
   "metadata": {
    "ExecuteTime": {
     "end_time": "2023-10-27T11:02:05.292178Z",
     "start_time": "2023-10-27T11:02:04.838348Z"
    },
    "collapsed": false
   },
   "outputs": [],
   "source": [
    "stage1_mobilenet.single_prediction(data.dataframe.iloc[8].path)\n"
   ]
  },
  {
   "cell_type": "code",
   "execution_count": null,
   "id": "b68c6241bddc2f83",
   "metadata": {
    "ExecuteTime": {
     "end_time": "2023-10-27T11:02:31.054962Z",
     "start_time": "2023-10-27T11:02:30.468104Z"
    },
    "collapsed": false
   },
   "outputs": [],
   "source": [
    "stage1_resnet.single_prediction(data.dataframe.iloc[8].path)"
   ]
  }
 ],
 "metadata": {
  "kernelspec": {
   "display_name": "Python 3",
   "language": "python",
   "name": "python3"
  },
  "language_info": {
   "codemirror_mode": {
    "name": "ipython",
    "version": 3
   },
   "file_extension": ".py",
   "mimetype": "text/x-python",
   "name": "python",
   "nbconvert_exporter": "python",
   "pygments_lexer": "ipython3",
   "version": "3.9.6"
  }
 },
 "nbformat": 4,
 "nbformat_minor": 5
}
