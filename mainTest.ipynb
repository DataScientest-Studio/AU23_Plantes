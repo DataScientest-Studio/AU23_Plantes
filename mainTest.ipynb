{
 "cells": [
  {
   "cell_type": "code",
   "execution_count": 1,
   "metadata": {},
   "outputs": [],
   "source": [
    "import src.features as lf\n",
    "import src.models as lm\n",
    "from src.models.stages2 import *\n",
    "\n",
    "\n",
    "#### Directories\n",
    "lm.models.RECORD_DIR='/models/records'\n",
    "lm.models.FIGURE_DIR='/reports/figures'\n",
    "\n",
    "#### Data building\n",
    "PATH = './dataset/'\n",
    "campaign_id = 'test'\n",
    "#### Data building\n",
    "data_wrapper = lf.data_builder.create_dataset_from_directory(PATH)\n",
    "\n"
   ]
  },
  {
   "cell_type": "code",
   "execution_count": 2,
   "metadata": {},
   "outputs": [
    {
     "name": "stdout",
     "output_type": "stream",
     "text": [
      "Found 4382 validated image filenames belonging to 12 classes.\n",
      "Found 597 validated image filenames belonging to 12 classes.\n",
      "Found 554 validated image filenames belonging to 12 classes.\n",
      ">>> 1-simple-Cnn –– Training\n",
      "Epoch 1/3\n"
     ]
    },
    {
     "ename": "ValueError",
     "evalue": "in user code:\n\n    File \"C:\\Users\\amib\\AppData\\Local\\Packages\\PythonSoftwareFoundation.Python.3.11_qbz5n2kfra8p0\\LocalCache\\local-packages\\Python311\\site-packages\\keras\\engine\\training.py\", line 1284, in train_function  *\n        return step_function(self, iterator)\n    File \"C:\\Users\\amib\\AppData\\Local\\Packages\\PythonSoftwareFoundation.Python.3.11_qbz5n2kfra8p0\\LocalCache\\local-packages\\Python311\\site-packages\\keras\\engine\\training.py\", line 1268, in step_function  **\n        outputs = model.distribute_strategy.run(run_step, args=(data,))\n    File \"C:\\Users\\amib\\AppData\\Local\\Packages\\PythonSoftwareFoundation.Python.3.11_qbz5n2kfra8p0\\LocalCache\\local-packages\\Python311\\site-packages\\keras\\engine\\training.py\", line 1249, in run_step  **\n        outputs = model.train_step(data)\n    File \"C:\\Users\\amib\\AppData\\Local\\Packages\\PythonSoftwareFoundation.Python.3.11_qbz5n2kfra8p0\\LocalCache\\local-packages\\Python311\\site-packages\\keras\\engine\\training.py\", line 1051, in train_step\n        loss = self.compute_loss(x, y, y_pred, sample_weight)\n    File \"C:\\Users\\amib\\AppData\\Local\\Packages\\PythonSoftwareFoundation.Python.3.11_qbz5n2kfra8p0\\LocalCache\\local-packages\\Python311\\site-packages\\keras\\engine\\training.py\", line 1109, in compute_loss\n        return self.compiled_loss(\n    File \"C:\\Users\\amib\\AppData\\Local\\Packages\\PythonSoftwareFoundation.Python.3.11_qbz5n2kfra8p0\\LocalCache\\local-packages\\Python311\\site-packages\\keras\\engine\\compile_utils.py\", line 265, in __call__\n        loss_value = loss_obj(y_t, y_p, sample_weight=sw)\n    File \"C:\\Users\\amib\\AppData\\Local\\Packages\\PythonSoftwareFoundation.Python.3.11_qbz5n2kfra8p0\\LocalCache\\local-packages\\Python311\\site-packages\\keras\\losses.py\", line 142, in __call__\n        losses = call_fn(y_true, y_pred)\n    File \"C:\\Users\\amib\\AppData\\Local\\Packages\\PythonSoftwareFoundation.Python.3.11_qbz5n2kfra8p0\\LocalCache\\local-packages\\Python311\\site-packages\\keras\\losses.py\", line 268, in call  **\n        return ag_fn(y_true, y_pred, **self._fn_kwargs)\n    File \"C:\\Users\\amib\\AppData\\Local\\Packages\\PythonSoftwareFoundation.Python.3.11_qbz5n2kfra8p0\\LocalCache\\local-packages\\Python311\\site-packages\\keras\\losses.py\", line 1984, in categorical_crossentropy\n        return backend.categorical_crossentropy(\n    File \"C:\\Users\\amib\\AppData\\Local\\Packages\\PythonSoftwareFoundation.Python.3.11_qbz5n2kfra8p0\\LocalCache\\local-packages\\Python311\\site-packages\\keras\\backend.py\", line 5559, in categorical_crossentropy\n        target.shape.assert_is_compatible_with(output.shape)\n\n    ValueError: Shapes (None, None) and (1, None, 12) are incompatible\n",
     "output_type": "error",
     "traceback": [
      "\u001b[1;31m---------------------------------------------------------------------------\u001b[0m",
      "\u001b[1;31mValueError\u001b[0m                                Traceback (most recent call last)",
      "\u001b[1;32mc:\\Users\\amib\\OneDrive\\Documents\\Drive\\OneDrive\\Bureau\\vision-ai\\plants\\AU23_Plantes\\mainTest.ipynb Cell 2\u001b[0m line \u001b[0;36m2\n\u001b[0;32m     <a href='vscode-notebook-cell:/c%3A/Users/amib/OneDrive/Documents/Drive/OneDrive/Bureau/vision-ai/plants/AU23_Plantes/mainTest.ipynb#W1sZmlsZQ%3D%3D?line=14'>15</a>\u001b[0m campaign\u001b[39m=\u001b[39m lm\u001b[39m.\u001b[39mcampaign\u001b[39m.\u001b[39mCampaign(campaign_id\u001b[39m=\u001b[39mcampaign_id, data_wrapper\u001b[39m=\u001b[39mdata_wrapper, models\u001b[39m=\u001b[39mmodels)\n\u001b[0;32m     <a href='vscode-notebook-cell:/c%3A/Users/amib/OneDrive/Documents/Drive/OneDrive/Bureau/vision-ai/plants/AU23_Plantes/mainTest.ipynb#W1sZmlsZQ%3D%3D?line=16'>17</a>\u001b[0m \u001b[39m#### train\u001b[39;00m\n\u001b[0;32m     <a href='vscode-notebook-cell:/c%3A/Users/amib/OneDrive/Documents/Drive/OneDrive/Bureau/vision-ai/plants/AU23_Plantes/mainTest.ipynb#W1sZmlsZQ%3D%3D?line=17'>18</a>\u001b[0m \u001b[39m#### models will be serialized in RECORD_DIR (launch only once by campaign)\u001b[39;00m\n\u001b[1;32m---> <a href='vscode-notebook-cell:/c%3A/Users/amib/OneDrive/Documents/Drive/OneDrive/Bureau/vision-ai/plants/AU23_Plantes/mainTest.ipynb#W1sZmlsZQ%3D%3D?line=19'>20</a>\u001b[0m campaign\u001b[39m.\u001b[39;49mtrain_all()\n",
      "File \u001b[1;32mc:\\Users\\amib\\OneDrive\\Documents\\Drive\\OneDrive\\Bureau\\vision-ai\\plants\\AU23_Plantes\\src\\models\\campaign.py:35\u001b[0m, in \u001b[0;36mCampaign.train_all\u001b[1;34m(self)\u001b[0m\n\u001b[0;32m     33\u001b[0m \u001b[39mfor\u001b[39;00m model \u001b[39min\u001b[39;00m \u001b[39mself\u001b[39m\u001b[39m.\u001b[39mmodels:\n\u001b[0;32m     34\u001b[0m     m\u001b[39m=\u001b[39m model(\u001b[39mself\u001b[39m\u001b[39m.\u001b[39mdata, \u001b[39mself\u001b[39m\u001b[39m.\u001b[39mcampaign_id)\n\u001b[1;32m---> 35\u001b[0m     m\u001b[39m.\u001b[39;49mfit_or_load(training\u001b[39m=\u001b[39;49m\u001b[39mTrue\u001b[39;49;00m)\n\u001b[0;32m     36\u001b[0m     tf\u001b[39m.\u001b[39mkeras\u001b[39m.\u001b[39mbackend\u001b[39m.\u001b[39mclear_session()\n",
      "File \u001b[1;32mc:\\Users\\amib\\OneDrive\\Documents\\Drive\\OneDrive\\Bureau\\vision-ai\\plants\\AU23_Plantes\\src\\models\\models.py:186\u001b[0m, in \u001b[0;36mTrainer.fit_or_load\u001b[1;34m(self, training)\u001b[0m\n\u001b[0;32m    184\u001b[0m \u001b[39mif\u001b[39;00m (training):\n\u001b[0;32m    185\u001b[0m     \u001b[39mself\u001b[39m\u001b[39m.\u001b[39mprint_step(\u001b[39m\"\u001b[39m\u001b[39mTraining\u001b[39m\u001b[39m\"\u001b[39m)\n\u001b[1;32m--> 186\u001b[0m     \u001b[39mself\u001b[39;49m\u001b[39m.\u001b[39;49mprocess_training()\n\u001b[0;32m    187\u001b[0m     \u001b[39mself\u001b[39m\u001b[39m.\u001b[39mprint_step(\u001b[39m\"\u001b[39m\u001b[39mSerialize \u001b[39m\u001b[39m\"\u001b[39m)\n\u001b[0;32m    188\u001b[0m     \u001b[39mself\u001b[39m\u001b[39m.\u001b[39mserialize()\n",
      "File \u001b[1;32mc:\\Users\\amib\\OneDrive\\Documents\\Drive\\OneDrive\\Bureau\\vision-ai\\plants\\AU23_Plantes\\src\\models\\stages2\\stage1.py:35\u001b[0m, in \u001b[0;36mStage1.process_training\u001b[1;34m(self)\u001b[0m\n\u001b[0;32m     33\u001b[0m \u001b[39mdef\u001b[39;00m \u001b[39mprocess_training\u001b[39m(\u001b[39mself\u001b[39m):\n\u001b[0;32m     34\u001b[0m     \u001b[39mself\u001b[39m\u001b[39m.\u001b[39mbase_model\u001b[39m.\u001b[39mmodel\u001b[39m.\u001b[39mtrainable \u001b[39m=\u001b[39m \u001b[39mFalse\u001b[39;00m\n\u001b[1;32m---> 35\u001b[0m     \u001b[39mself\u001b[39;49m\u001b[39m.\u001b[39;49mcompile_fit(lr\u001b[39m=\u001b[39;49m\u001b[39mself\u001b[39;49m\u001b[39m.\u001b[39;49mlr1, epochs\u001b[39m=\u001b[39;49m\u001b[39mself\u001b[39;49m\u001b[39m.\u001b[39;49mepoch1)\n",
      "File \u001b[1;32mc:\\Users\\amib\\OneDrive\\Documents\\Drive\\OneDrive\\Bureau\\vision-ai\\plants\\AU23_Plantes\\src\\models\\models.py:242\u001b[0m, in \u001b[0;36mTrainer.compile_fit\u001b[1;34m(self, lr, epochs, is_fine_tuning)\u001b[0m\n\u001b[0;32m    228\u001b[0m \u001b[39m\u001b[39m\u001b[39m\"\"\"\u001b[39;00m\n\u001b[0;32m    229\u001b[0m \u001b[39m        Train the model and keep trace of history\u001b[39;00m\n\u001b[0;32m    230\u001b[0m \u001b[39m        The model can then be serialized\u001b[39;00m\n\u001b[1;32m   (...)\u001b[0m\n\u001b[0;32m    234\u001b[0m \u001b[39m            None\u001b[39;00m\n\u001b[0;32m    235\u001b[0m \u001b[39m\"\"\"\u001b[39;00m\n\u001b[0;32m    236\u001b[0m \u001b[39mself\u001b[39m\u001b[39m.\u001b[39mmodel\u001b[39m.\u001b[39mcompile(\n\u001b[0;32m    237\u001b[0m     optimizer\u001b[39m=\u001b[39mAdam(learning_rate\u001b[39m=\u001b[39mlr),\n\u001b[0;32m    238\u001b[0m     loss\u001b[39m=\u001b[39mCategoricalCrossentropy(),\n\u001b[0;32m    239\u001b[0m     metrics\u001b[39m=\u001b[39mCategoricalAccuracy()\n\u001b[0;32m    240\u001b[0m )\n\u001b[1;32m--> 242\u001b[0m history \u001b[39m=\u001b[39m \u001b[39mself\u001b[39;49m\u001b[39m.\u001b[39;49mmodel\u001b[39m.\u001b[39;49mfit(\n\u001b[0;32m    243\u001b[0m     \u001b[39mself\u001b[39;49m\u001b[39m.\u001b[39;49mtrain,\n\u001b[0;32m    244\u001b[0m     validation_data\u001b[39m=\u001b[39;49m\u001b[39mself\u001b[39;49m\u001b[39m.\u001b[39;49mvalidation,\n\u001b[0;32m    245\u001b[0m     epochs\u001b[39m=\u001b[39;49mepochs,\n\u001b[0;32m    246\u001b[0m     batch_size\u001b[39m=\u001b[39;49m\u001b[39mself\u001b[39;49m\u001b[39m.\u001b[39;49mbatch_size,\n\u001b[0;32m    247\u001b[0m     class_weight\u001b[39m=\u001b[39;49m\u001b[39mself\u001b[39;49m\u001b[39m.\u001b[39;49mdata\u001b[39m.\u001b[39;49mweights,\n\u001b[0;32m    248\u001b[0m     callbacks\u001b[39m=\u001b[39;49m[\u001b[39mself\u001b[39;49m\u001b[39m.\u001b[39;49mlr_reduction, \u001b[39mself\u001b[39;49m\u001b[39m.\u001b[39;49mstop_callback, \u001b[39mself\u001b[39;49m\u001b[39m.\u001b[39;49mcallbacks_best_models]\n\u001b[0;32m    249\u001b[0m )\u001b[39m.\u001b[39mhistory\n\u001b[0;32m    251\u001b[0m \u001b[39mif\u001b[39;00m (is_fine_tuning) : \u001b[39mself\u001b[39m\u001b[39m.\u001b[39mhistory2 \u001b[39m=\u001b[39m history\n\u001b[0;32m    252\u001b[0m \u001b[39melse\u001b[39;00m : \u001b[39mself\u001b[39m\u001b[39m.\u001b[39mhistory1 \u001b[39m=\u001b[39m history\n",
      "File \u001b[1;32m~\\AppData\\Local\\Packages\\PythonSoftwareFoundation.Python.3.11_qbz5n2kfra8p0\\LocalCache\\local-packages\\Python311\\site-packages\\keras\\utils\\traceback_utils.py:70\u001b[0m, in \u001b[0;36mfilter_traceback.<locals>.error_handler\u001b[1;34m(*args, **kwargs)\u001b[0m\n\u001b[0;32m     67\u001b[0m     filtered_tb \u001b[39m=\u001b[39m _process_traceback_frames(e\u001b[39m.\u001b[39m__traceback__)\n\u001b[0;32m     68\u001b[0m     \u001b[39m# To get the full stack trace, call:\u001b[39;00m\n\u001b[0;32m     69\u001b[0m     \u001b[39m# `tf.debugging.disable_traceback_filtering()`\u001b[39;00m\n\u001b[1;32m---> 70\u001b[0m     \u001b[39mraise\u001b[39;00m e\u001b[39m.\u001b[39mwith_traceback(filtered_tb) \u001b[39mfrom\u001b[39;00m \u001b[39mNone\u001b[39;00m\n\u001b[0;32m     71\u001b[0m \u001b[39mfinally\u001b[39;00m:\n\u001b[0;32m     72\u001b[0m     \u001b[39mdel\u001b[39;00m filtered_tb\n",
      "File \u001b[1;32m~\\AppData\\Local\\Temp\\__autograph_generated_file1lnpvxbu.py:15\u001b[0m, in \u001b[0;36mouter_factory.<locals>.inner_factory.<locals>.tf__train_function\u001b[1;34m(iterator)\u001b[0m\n\u001b[0;32m     13\u001b[0m \u001b[39mtry\u001b[39;00m:\n\u001b[0;32m     14\u001b[0m     do_return \u001b[39m=\u001b[39m \u001b[39mTrue\u001b[39;00m\n\u001b[1;32m---> 15\u001b[0m     retval_ \u001b[39m=\u001b[39m ag__\u001b[39m.\u001b[39mconverted_call(ag__\u001b[39m.\u001b[39mld(step_function), (ag__\u001b[39m.\u001b[39mld(\u001b[39mself\u001b[39m), ag__\u001b[39m.\u001b[39mld(iterator)), \u001b[39mNone\u001b[39;00m, fscope)\n\u001b[0;32m     16\u001b[0m \u001b[39mexcept\u001b[39;00m:\n\u001b[0;32m     17\u001b[0m     do_return \u001b[39m=\u001b[39m \u001b[39mFalse\u001b[39;00m\n",
      "\u001b[1;31mValueError\u001b[0m: in user code:\n\n    File \"C:\\Users\\amib\\AppData\\Local\\Packages\\PythonSoftwareFoundation.Python.3.11_qbz5n2kfra8p0\\LocalCache\\local-packages\\Python311\\site-packages\\keras\\engine\\training.py\", line 1284, in train_function  *\n        return step_function(self, iterator)\n    File \"C:\\Users\\amib\\AppData\\Local\\Packages\\PythonSoftwareFoundation.Python.3.11_qbz5n2kfra8p0\\LocalCache\\local-packages\\Python311\\site-packages\\keras\\engine\\training.py\", line 1268, in step_function  **\n        outputs = model.distribute_strategy.run(run_step, args=(data,))\n    File \"C:\\Users\\amib\\AppData\\Local\\Packages\\PythonSoftwareFoundation.Python.3.11_qbz5n2kfra8p0\\LocalCache\\local-packages\\Python311\\site-packages\\keras\\engine\\training.py\", line 1249, in run_step  **\n        outputs = model.train_step(data)\n    File \"C:\\Users\\amib\\AppData\\Local\\Packages\\PythonSoftwareFoundation.Python.3.11_qbz5n2kfra8p0\\LocalCache\\local-packages\\Python311\\site-packages\\keras\\engine\\training.py\", line 1051, in train_step\n        loss = self.compute_loss(x, y, y_pred, sample_weight)\n    File \"C:\\Users\\amib\\AppData\\Local\\Packages\\PythonSoftwareFoundation.Python.3.11_qbz5n2kfra8p0\\LocalCache\\local-packages\\Python311\\site-packages\\keras\\engine\\training.py\", line 1109, in compute_loss\n        return self.compiled_loss(\n    File \"C:\\Users\\amib\\AppData\\Local\\Packages\\PythonSoftwareFoundation.Python.3.11_qbz5n2kfra8p0\\LocalCache\\local-packages\\Python311\\site-packages\\keras\\engine\\compile_utils.py\", line 265, in __call__\n        loss_value = loss_obj(y_t, y_p, sample_weight=sw)\n    File \"C:\\Users\\amib\\AppData\\Local\\Packages\\PythonSoftwareFoundation.Python.3.11_qbz5n2kfra8p0\\LocalCache\\local-packages\\Python311\\site-packages\\keras\\losses.py\", line 142, in __call__\n        losses = call_fn(y_true, y_pred)\n    File \"C:\\Users\\amib\\AppData\\Local\\Packages\\PythonSoftwareFoundation.Python.3.11_qbz5n2kfra8p0\\LocalCache\\local-packages\\Python311\\site-packages\\keras\\losses.py\", line 268, in call  **\n        return ag_fn(y_true, y_pred, **self._fn_kwargs)\n    File \"C:\\Users\\amib\\AppData\\Local\\Packages\\PythonSoftwareFoundation.Python.3.11_qbz5n2kfra8p0\\LocalCache\\local-packages\\Python311\\site-packages\\keras\\losses.py\", line 1984, in categorical_crossentropy\n        return backend.categorical_crossentropy(\n    File \"C:\\Users\\amib\\AppData\\Local\\Packages\\PythonSoftwareFoundation.Python.3.11_qbz5n2kfra8p0\\LocalCache\\local-packages\\Python311\\site-packages\\keras\\backend.py\", line 5559, in categorical_crossentropy\n        target.shape.assert_is_compatible_with(output.shape)\n\n    ValueError: Shapes (None, None) and (1, None, 12) are incompatible\n"
     ]
    }
   ],
   "source": [
    "#### Campaign init\n",
    "models = [\n",
    "  stage1.CNN,\n",
    "  # stage1.MobileNetv3,\n",
    "  # stage1.ResNetv2,\n",
    "  # stage2.CNN,\n",
    "  # stage2.MobileNetv3,\n",
    "  # stage2.ResNetv2,\n",
    "  # stage3.MobileNetv3,\n",
    "  # stage3.ResNetv2,\n",
    "  # stage4.CNN,\n",
    "  # stage4.MobileNetv3,\n",
    "  # stage4.ResNetv2\n",
    "  ]\n",
    "campaign= lm.campaign.Campaign(campaign_id=campaign_id, data_wrapper=data_wrapper, models=models)\n",
    "\n",
    "#### train\n",
    "#### models will be serialized in RECORD_DIR (launch only once by campaign)\n",
    "\n",
    "campaign.train_all()\n",
    "\n",
    "\n"
   ]
  },
  {
   "cell_type": "code",
   "execution_count": null,
   "metadata": {},
   "outputs": [],
   "source": [
    "#### evaluate\n",
    "#### models will be loaded and results saved in FIGURE_DIR/campaign_id\n",
    "\n",
    "campaign.evaluate_and_build_reports()"
   ]
  }
 ],
 "metadata": {
  "kernelspec": {
   "display_name": "Python 3",
   "language": "python",
   "name": "python3"
  },
  "language_info": {
   "codemirror_mode": {
    "name": "ipython",
    "version": 3
   },
   "file_extension": ".py",
   "mimetype": "text/x-python",
   "name": "python",
   "nbconvert_exporter": "python",
   "pygments_lexer": "ipython3",
   "version": "3.11.6"
  }
 },
 "nbformat": 4,
 "nbformat_minor": 2
}
